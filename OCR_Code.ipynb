{
 "cells": [
  {
   "cell_type": "code",
   "execution_count": 1,
   "id": "01a69cbd",
   "metadata": {},
   "outputs": [
    {
     "name": "stdout",
     "output_type": "stream",
     "text": [
      "Num GPUs Available:  0\n"
     ]
    }
   ],
   "source": [
    "import numpy as np\n",
    "import pandas as pd\n",
    "import cv2 as cv\n",
    "from cv2 import cv2\n",
    "import matplotlib.pyplot as plt\n",
    "import seaborn as sns\n",
    "import tensorflow as tf\n",
    "from tensorflow.keras.preprocessing.image import ImageDataGenerator\n",
    "from tensorflow.keras.callbacks import EarlyStopping,ReduceLROnPlateau\n",
    "from tensorflow.keras.models import Sequential\n",
    "from tensorflow.keras.layers import Dense,Flatten,MaxPooling2D,Conv2D,Dropout,Activation,BatchNormalization\n",
    "from sklearn.metrics import confusion_matrix\n",
    "from sklearn.utils import shuffle\n",
    "import os\n",
    "import img2bw\n",
    "import mahotas\n",
    "import mahotas.demos\n",
    "from pylab import imshow, gray, show\n",
    "from os import path\n",
    "os.environ['TF_CPP_MIN_LOG_LEVEL'] = '3' \n",
    "import warnings \n",
    "warnings.filterwarnings('ignore')\n",
    "print(\"Num GPUs Available: \", len(tf.config.list_physical_devices('GPU')))"
   ]
  },
  {
   "cell_type": "code",
   "execution_count": 2,
   "id": "3f59e2d0",
   "metadata": {
    "scrolled": true
   },
   "outputs": [
    {
     "name": "stdout",
     "output_type": "stream",
     "text": [
      "Model: \"sequential\"\n",
      "_________________________________________________________________\n",
      " Layer (type)                Output Shape              Param #   \n",
      "=================================================================\n",
      " conv2d (Conv2D)             (None, 32, 32, 32)        832       \n",
      "                                                                 \n",
      " conv2d_1 (Conv2D)           (None, 32, 32, 32)        25632     \n",
      "                                                                 \n",
      " conv2d_2 (Conv2D)           (None, 28, 28, 32)        25632     \n",
      "                                                                 \n",
      " max_pooling2d (MaxPooling2D  (None, 14, 14, 32)       0         \n",
      " )                                                               \n",
      "                                                                 \n",
      " flatten (Flatten)           (None, 6272)              0         \n",
      "                                                                 \n",
      " dense (Dense)               (None, 128)               802944    \n",
      "                                                                 \n",
      " dense_1 (Dense)             (None, 128)               16512     \n",
      "                                                                 \n",
      " dropout (Dropout)           (None, 128)               0         \n",
      "                                                                 \n",
      " dense_2 (Dense)             (None, 28)                3612      \n",
      "                                                                 \n",
      "=================================================================\n",
      "Total params: 875,164\n",
      "Trainable params: 875,164\n",
      "Non-trainable params: 0\n",
      "_________________________________________________________________\n"
     ]
    }
   ],
   "source": [
    "Stark=tf.keras.models.load_model('Stark.model')\n",
    "Stark.summary()"
   ]
  },
  {
   "cell_type": "code",
   "execution_count": 3,
   "id": "0fd845a2",
   "metadata": {},
   "outputs": [],
   "source": [
    "characters = [\"ا\",\"ب\",\"ت\",\"ث\",\"ج\",\"ح\",\"خ\",\"د\",\"ذ\",\"ر\",\"ز\",\"س\",\"ش\",\"ص\",\"ض\",\"ط\",\"ظ\",\"ع\",\"غ\",\"ف\",\"ق\",\"ك\",\"ل\",\"م\",\"ن\",\"ه\",\"و\",\"ي\"]\n",
    "characters_dict = dict(zip(np.arange(1,len(characters)+1), characters))"
   ]
  },
  {
   "cell_type": "code",
   "execution_count": 4,
   "id": "1ac69c7e",
   "metadata": {},
   "outputs": [],
   "source": [
    "newImage=cv2.imread(\"alef.jpeg\")\n",
    "gray = cv2.cvtColor(newImage,cv2.COLOR_BGR2GRAY)\n",
    "blur = cv.GaussianBlur(gray,(5,5),0)\n",
    "blur = cv.medianBlur(blur,7)\n",
    "thesh =cv.adaptiveThreshold(blur, 255, cv.ADAPTIVE_THRESH_GAUSSIAN_C, cv.THRESH_BINARY, 11, 5)\n",
    "kernel = np.ones((1,1),np.uint8)\n",
    "dil = cv2.dilate(thesh,kernel,iterations=6)\n",
    "kernel = np.ones((4,4),np.uint8)\n",
    "erod = cv2.erode(dil,kernel,iterations=6)\n",
    "morph =cv2.morphologyEx(erod,cv2.MORPH_CLOSE, kernel)\n",
    "bitwisess=cv2.bitwise_not(morph)\n",
    "roto = cv2.rotate(bitwisess, cv2.ROTATE_90_CLOCKWISE)"
   ]
  },
  {
   "cell_type": "code",
   "execution_count": 5,
   "id": "e94c2d2b",
   "metadata": {},
   "outputs": [
    {
     "data": {
      "image/png": "[encoded data removed]",
      "text/plain": [
       "<Figure size 432x288 with 1 Axes>"
      ]
     },
     "metadata": {
      "needs_background": "light"
     },
     "output_type": "display_data"
    }
   ],
   "source": [
    "plt.imshow(roto)\n",
    "plt.show()"
   ]
  },
  {
   "cell_type": "code",
   "execution_count": 6,
   "id": "5ba8acb9",
   "metadata": {},
   "outputs": [],
   "source": [
    "newImage1 =cv2.resize(roto,(32,32))"
   ]
  },
  {
   "cell_type": "code",
   "execution_count": 7,
   "id": "282bbf59",
   "metadata": {},
   "outputs": [
    {
     "data": {
      "image/png": "[encoded data removed]",
      "text/plain": [
       "<Figure size 432x288 with 1 Axes>"
      ]
     },
     "metadata": {
      "needs_background": "light"
     },
     "output_type": "display_data"
    }
   ],
   "source": [
    "plt.imshow(newImage1)\n",
    "plt.show()"
   ]
  },
  {
   "cell_type": "code",
   "execution_count": 8,
   "id": "ff0f23a9",
   "metadata": {},
   "outputs": [
    {
     "data": {
      "text/plain": [
       "(1, 32, 32, 1)"
      ]
     },
     "execution_count": 8,
     "metadata": {},
     "output_type": "execute_result"
    }
   ],
   "source": [
    "conv=newImage1.astype(np.float)\n",
    "tt=conv/255\n",
    "x=tt.reshape(-1,32,32,1)\n",
    "x.shape"
   ]
  },
  {
   "cell_type": "code",
   "execution_count": 9,
   "id": "a8a5eb1d",
   "metadata": {},
   "outputs": [],
   "source": [
    "predict1=Stark.predict(x)"
   ]
  },
  {
   "cell_type": "code",
   "execution_count": 10,
   "id": "ae16201d",
   "metadata": {},
   "outputs": [
    {
     "name": "stdout",
     "output_type": "stream",
     "text": [
      "0\n"
     ]
    }
   ],
   "source": [
    "print(np.argmax(predict1))"
   ]
  },
  {
   "cell_type": "code",
   "execution_count": 11,
   "id": "3575ae74",
   "metadata": {},
   "outputs": [
    {
     "data": {
      "text/plain": [
       "array([[9.8202091e-01, 4.1292148e-07, 1.5909572e-16, 5.5684329e-11,\n",
       "        1.2890341e-07, 9.1856592e-08, 3.1826639e-04, 2.1160183e-12,\n",
       "        6.6549068e-09, 5.6611906e-09, 8.6423970e-06, 1.9360291e-11,\n",
       "        4.8213456e-12, 1.5480934e-13, 1.7520071e-12, 2.5411387e-06,\n",
       "        3.4693343e-04, 5.7010567e-03, 1.1599699e-02, 3.9190341e-14,\n",
       "        8.6177610e-12, 2.5575980e-10, 7.9571414e-08, 7.6714412e-07,\n",
       "        6.4123663e-12, 3.1564681e-12, 1.1647011e-10, 5.0833631e-07]],\n",
       "      dtype=float32)"
      ]
     },
     "execution_count": 11,
     "metadata": {},
     "output_type": "execute_result"
    }
   ],
   "source": [
    "predict1"
   ]
  },
  {
   "cell_type": "code",
   "execution_count": 12,
   "id": "fa59469d",
   "metadata": {},
   "outputs": [
    {
     "data": {
      "text/plain": [
       "(1, 28)"
      ]
     },
     "execution_count": 12,
     "metadata": {},
     "output_type": "execute_result"
    }
   ],
   "source": [
    "predict1.shape"
   ]
  },
  {
   "cell_type": "code",
   "execution_count": 13,
   "id": "8af0bd35",
   "metadata": {},
   "outputs": [
    {
     "name": "stdout",
     "output_type": "stream",
     "text": [
      "ا\n"
     ]
    }
   ],
   "source": [
    "print(characters[np.argmax(predict1)])"
   ]
  }
 ],
 "metadata": {
  "kernelspec": {
   "display_name": "Python 3",
   "language": "python",
   "name": "python3"
  },
  "language_info": {
   "codemirror_mode": {
    "name": "ipython",
    "version": 3
   },
   "file_extension": ".py",
   "mimetype": "text/x-python",
   "name": "python",
   "nbconvert_exporter": "python",
   "pygments_lexer": "ipython3",
   "version": "3.8.8"
  }
 },
 "nbformat": 4,
 "nbformat_minor": 5
}
