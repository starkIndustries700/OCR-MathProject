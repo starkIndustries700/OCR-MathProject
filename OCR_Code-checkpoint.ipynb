{
 "cells": [
  {
   "cell_type": "code",
   "execution_count": 1,
   "id": "01a69cbd",
   "metadata": {},
   "outputs": [
    {
     "name": "stdout",
     "output_type": "stream",
     "text": [
      "Num GPUs Available:  0\n"
     ]
    }
   ],
   "source": [
    "import numpy as np\n",
    "import pandas as pd\n",
    "import cv2 as cv\n",
    "from cv2 import cv2\n",
    "import matplotlib.pyplot as plt\n",
    "import seaborn as sns\n",
    "import tensorflow as tf\n",
    "from tensorflow.keras.preprocessing.image import ImageDataGenerator\n",
    "from tensorflow.keras.callbacks import EarlyStopping,ReduceLROnPlateau\n",
    "from tensorflow.keras.models import Sequential\n",
    "from tensorflow.keras.layers import Dense,Flatten,MaxPooling2D,Conv2D,Dropout,Activation,BatchNormalization\n",
    "from sklearn.metrics import confusion_matrix\n",
    "from sklearn.utils import shuffle\n",
    "import os\n",
    "import gtts\n",
    "import img2bw\n",
    "import mahotas\n",
    "import mahotas.demos\n",
    "from pylab import imshow, gray, show\n",
    "from os import path\n",
    "os.environ['TF_CPP_MIN_LOG_LEVEL'] = '3' \n",
    "import warnings \n",
    "warnings.filterwarnings('ignore')\n",
    "print(\"Num GPUs Available: \", len(tf.config.list_physical_devices('GPU')))"
   ]
  },
  {
   "cell_type": "code",
   "execution_count": 2,
   "id": "3f59e2d0",
   "metadata": {
    "scrolled": true
   },
   "outputs": [
    {
     "name": "stdout",
     "output_type": "stream",
     "text": [
      "Model: \"sequential\"\n",
      "_________________________________________________________________\n",
      " Layer (type)                Output Shape              Param #   \n",
      "=================================================================\n",
      " conv2d (Conv2D)             (None, 32, 32, 32)        832       \n",
      "                                                                 \n",
      " conv2d_1 (Conv2D)           (None, 32, 32, 32)        25632     \n",
      "                                                                 \n",
      " conv2d_2 (Conv2D)           (None, 28, 28, 32)        25632     \n",
      "                                                                 \n",
      " max_pooling2d (MaxPooling2D  (None, 14, 14, 32)       0         \n",
      " )                                                               \n",
      "                                                                 \n",
      " flatten (Flatten)           (None, 6272)              0         \n",
      "                                                                 \n",
      " dense (Dense)               (None, 128)               802944    \n",
      "                                                                 \n",
      " dense_1 (Dense)             (None, 128)               16512     \n",
      "                                                                 \n",
      " dropout (Dropout)           (None, 128)               0         \n",
      "                                                                 \n",
      " dense_2 (Dense)             (None, 28)                3612      \n",
      "                                                                 \n",
      "=================================================================\n",
      "Total params: 875,164\n",
      "Trainable params: 875,164\n",
      "Non-trainable params: 0\n",
      "_________________________________________________________________\n"
     ]
    }
   ],
   "source": [
    "Stark=tf.keras.models.load_model('Stark.model')\n",
    "Stark.summary()"
   ]
  },
  {
   "cell_type": "code",
   "execution_count": 3,
   "id": "0fd845a2",
   "metadata": {},
   "outputs": [],
   "source": [
    "characters = [\"ا\",\"ب\",\"ت\",\"ث\",\"ج\",\"ح\",\"خ\",\"د\",\"ذ\",\"ر\",\"ز\",\"س\",\"ش\",\"ص\",\"ض\",\"ط\",\"ظ\",\"ع\",\"غ\",\"ف\",\"ق\",\"ك\",\"ل\",\"م\",\"ن\",\"ه\",\"و\",\"ي\"]\n",
    "characters_dict = dict(zip(np.arange(1,len(characters)+1), characters))"
   ]
  },
  {
   "cell_type": "code",
   "execution_count": 4,
   "id": "1ac69c7e",
   "metadata": {},
   "outputs": [],
   "source": [
    "newImage=cv2.imread(\"alef.jpeg\")\n",
    "gray = cv2.cvtColor(newImage,cv2.COLOR_BGR2GRAY)\n",
    "blur = cv.GaussianBlur(gray,(5,5),0)\n",
    "blur = cv.medianBlur(blur,7)\n",
    "thesh =cv.adaptiveThreshold(blur, 255, cv.ADAPTIVE_THRESH_GAUSSIAN_C, cv.THRESH_BINARY, 11, 3)\n",
    "kernel = np.ones((1,1),np.uint8)\n",
    "dil = cv2.dilate(thesh,kernel,iterations=6)\n",
    "kernel = np.ones((4,4),np.uint8)\n",
    "erod = cv2.erode(dil,kernel,iterations=6)\n",
    "morph =cv2.morphologyEx(erod,cv2.MORPH_CLOSE, kernel)\n",
    "bitwisess=cv2.bitwise_not(morph)\n",
    "roto = cv2.rotate(bitwisess, cv2.ROTATE_90_CLOCKWISE)"
   ]
  },
  {
   "cell_type": "code",
   "execution_count": 5,
   "id": "e94c2d2b",
   "metadata": {},
   "outputs": [
    {
     "data": {
      "image/png": "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\n",
      "text/plain": [
       "<Figure size 432x288 with 1 Axes>"
      ]
     },
     "metadata": {
      "needs_background": "light"
     },
     "output_type": "display_data"
    }
   ],
   "source": [
    "plt.imshow(roto)\n",
    "plt.show()"
   ]
  },
  {
   "cell_type": "code",
   "execution_count": 6,
   "id": "5ba8acb9",
   "metadata": {},
   "outputs": [],
   "source": [
    "newImage1 =cv2.resize(roto,(32,32))"
   ]
  },
  {
   "cell_type": "code",
   "execution_count": 7,
   "id": "282bbf59",
   "metadata": {},
   "outputs": [
    {
     "data": {
      "image/png": "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\n",
      "text/plain": [
       "<Figure size 432x288 with 1 Axes>"
      ]
     },
     "metadata": {
      "needs_background": "light"
     },
     "output_type": "display_data"
    }
   ],
   "source": [
    "plt.imshow(newImage1)\n",
    "plt.show()"
   ]
  },
  {
   "cell_type": "code",
   "execution_count": 8,
   "id": "ff0f23a9",
   "metadata": {},
   "outputs": [
    {
     "data": {
      "text/plain": [
       "(1, 32, 32, 1)"
      ]
     },
     "execution_count": 8,
     "metadata": {},
     "output_type": "execute_result"
    }
   ],
   "source": [
    "conv=newImage1.astype(np.float)\n",
    "tt=conv/255\n",
    "x=tt.reshape(-1,32,32,1)\n",
    "x.shape"
   ]
  },
  {
   "cell_type": "code",
   "execution_count": 9,
   "id": "a8a5eb1d",
   "metadata": {},
   "outputs": [],
   "source": [
    "predict1=Stark.predict(x)"
   ]
  },
  {
   "cell_type": "code",
   "execution_count": 10,
   "id": "ae16201d",
   "metadata": {},
   "outputs": [
    {
     "name": "stdout",
     "output_type": "stream",
     "text": [
      "0\n"
     ]
    }
   ],
   "source": [
    "print(np.argmax(predict1))"
   ]
  },
  {
   "cell_type": "code",
   "execution_count": 11,
   "id": "3575ae74",
   "metadata": {},
   "outputs": [
    {
     "data": {
      "text/plain": [
       "array([[9.8202091e-01, 4.1292148e-07, 1.5909572e-16, 5.5684329e-11,\n",
       "        1.2890341e-07, 9.1856592e-08, 3.1826639e-04, 2.1160183e-12,\n",
       "        6.6549068e-09, 5.6611906e-09, 8.6423970e-06, 1.9360291e-11,\n",
       "        4.8213456e-12, 1.5480934e-13, 1.7520071e-12, 2.5411387e-06,\n",
       "        3.4693343e-04, 5.7010567e-03, 1.1599699e-02, 3.9190341e-14,\n",
       "        8.6177610e-12, 2.5575980e-10, 7.9571414e-08, 7.6714412e-07,\n",
       "        6.4123663e-12, 3.1564681e-12, 1.1647011e-10, 5.0833631e-07]],\n",
       "      dtype=float32)"
      ]
     },
     "execution_count": 11,
     "metadata": {},
     "output_type": "execute_result"
    }
   ],
   "source": [
    "predict1"
   ]
  },
  {
   "cell_type": "code",
   "execution_count": 12,
   "id": "fa59469d",
   "metadata": {},
   "outputs": [
    {
     "data": {
      "text/plain": [
       "(1, 28)"
      ]
     },
     "execution_count": 12,
     "metadata": {},
     "output_type": "execute_result"
    }
   ],
   "source": [
    "predict1.shape"
   ]
  },
  {
   "cell_type": "code",
   "execution_count": 13,
   "id": "8af0bd35",
   "metadata": {},
   "outputs": [
    {
     "name": "stdout",
     "output_type": "stream",
     "text": [
      "ا\n"
     ]
    }
   ],
   "source": [
    "print(characters[np.argmax(predict1)])"
   ]
  },
  {
   "cell_type": "code",
   "execution_count": 14,
   "id": "7053a4bf",
   "metadata": {},
   "outputs": [],
   "source": []"
