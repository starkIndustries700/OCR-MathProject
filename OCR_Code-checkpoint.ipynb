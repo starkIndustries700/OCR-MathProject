{
 "cells": [
  {
   "cell_type": "code",
   "execution_count": 1,
   "id": "01a69cbd",
   "metadata": {},
   "outputs": [
    {
     "name": "stdout",
     "output_type": "stream",
     "text": [
      "Num GPUs Available:  0\n"
     ]
    }
   ],
   "source": [
    "import numpy as np\n",
    "import pandas as pd\n",
    "import cv2 as cv\n",
    "from cv2 import cv2\n",
    "import matplotlib.pyplot as plt\n",
    "import seaborn as sns\n",
    "import tensorflow as tf\n",
    "from tensorflow.keras.preprocessing.image import ImageDataGenerator\n",
    "from tensorflow.keras.callbacks import EarlyStopping,ReduceLROnPlateau\n",
    "from tensorflow.keras.models import Sequential\n",
    "from tensorflow.keras.layers import Dense,Flatten,MaxPooling2D,Conv2D,Dropout,Activation,BatchNormalization\n",
    "from sklearn.metrics import confusion_matrix\n",
    "from sklearn.utils import shuffle\n",
    "import os\n",
    "import gtts\n",
    "import img2bw\n",
    "import mahotas\n",
    "import mahotas.demos\n",
    "from pylab import imshow, gray, show\n",
    "from os import path\n",
    "os.environ['TF_CPP_MIN_LOG_LEVEL'] = '3' \n",
    "import warnings \n",
    "warnings.filterwarnings('ignore')\n",
    "print(\"Num GPUs Available: \", len(tf.config.list_physical_devices('GPU')))"
   ]
  },
  {
   "cell_type": "code",
   "execution_count": 2,
   "id": "3f59e2d0",
   "metadata": {
    "scrolled": true
   },
   "outputs": [
    {
     "name": "stdout",
     "output_type": "stream",
     "text": [
      "Model: \"sequential\"\n",
      "_________________________________________________________________\n",
      " Layer (type)                Output Shape              Param #   \n",
      "=================================================================\n",
      " conv2d (Conv2D)             (None, 32, 32, 32)        832       \n",
      "                                                                 \n",
      " conv2d_1 (Conv2D)           (None, 32, 32, 32)        25632     \n",
      "                                                                 \n",
      " conv2d_2 (Conv2D)           (None, 28, 28, 32)        25632     \n",
      "                                                                 \n",
      " max_pooling2d (MaxPooling2D  (None, 14, 14, 32)       0         \n",
      " )                                                               \n",
      "                                                                 \n",
      " flatten (Flatten)           (None, 6272)              0         \n",
      "                                                                 \n",
      " dense (Dense)               (None, 128)               802944    \n",
      "                                                                 \n",
      " dense_1 (Dense)             (None, 128)               16512     \n",
      "                                                                 \n",
      " dropout (Dropout)           (None, 128)               0         \n",
      "                                                                 \n",
      " dense_2 (Dense)             (None, 28)                3612      \n",
      "                                                                 \n",
      "=================================================================\n",
      "Total params: 875,164\n",
      "Trainable params: 875,164\n",
      "Non-trainable params: 0\n",
      "_________________________________________________________________\n"
     ]
    }
   ],
   "source": [
    "Stark=tf.keras.models.load_model('Stark.model')\n",
    "Stark.summary()"
   ]
  },
  {
   "cell_type": "code",
   "execution_count": 3,
   "id": "0daafd95",
   "metadata": {},
   "outputs": [],
   "source": [
    "train_data = pd.read_csv('csvTrainImages 13440x1024.csv', header = None).values\n",
    "train_label = pd.read_csv('csvTrainLabel 13440x1.csv', header = None)\n",
    "test_data = pd.read_csv('csvTestImages 3360x1024.csv', header = None).values\n",
    "test_label = pd.read_csv('csvTestLabel 3360x1.csv', header = None)"
   ]
  },
  {
   "cell_type": "code",
   "execution_count": 4,
   "id": "d17a29c7",
   "metadata": {},
   "outputs": [],
   "source": [
    "train_label = train_label.squeeze()\n",
    "test_label = test_label.squeeze()"
   ]
  },
  {
   "cell_type": "code",
   "execution_count": 5,
   "id": "01e01338",
   "metadata": {},
   "outputs": [],
   "source": [
    "characters = [\"ا\",\"ب\",\"ت\",\"ث\",\"ج\",\"ح\",\"خ\",\"د\",\"ذ\",\"ر\",\"ز\",\"س\",\"ش\",\"ص\",\"ض\",\"ط\",\"ظ\",\"ع\",\"غ\",\"ف\",\"ق\",\"ك\",\"ل\",\"م\",\"ن\",\"ه\",\"و\",\"ي\"]\n",
    "characters_dict = dict(zip(np.arange(1,len(characters)+1), characters))"
   ]
  },
  {
   "cell_type": "code",
   "execution_count": 6,
   "id": "4817c4f5",
   "metadata": {},
   "outputs": [],
   "source": [
    "train_label = train_label.map(characters_dict).values\n",
    "test_label = test_label.map(characters_dict).values"
   ]
  },
  {
   "cell_type": "code",
   "execution_count": 7,
   "id": "b836bdd7",
   "metadata": {},
   "outputs": [],
   "source": [
    "x_train = (train_data).reshape(-1,32,32,1)\n",
    "x_test = (test_data).reshape(-1,32,32,1)"
   ]
  },
  {
   "cell_type": "code",
   "execution_count": 8,
   "id": "15aa06cf",
   "metadata": {},
   "outputs": [],
   "source": [
    "x_train,train_label = shuffle(x_train,train_label)\n",
    "x_test,test_label = shuffle(x_test,test_label)"
   ]
  },
  {
   "cell_type": "code",
   "execution_count": 9,
   "id": "51a3fed0",
   "metadata": {},
   "outputs": [],
   "source": [
    "from sklearn.preprocessing import LabelEncoder\n",
    "lb = LabelEncoder()\n",
    "train_label = lb.fit_transform(train_label)\n",
    "test_label = lb.fit_transform(test_label)"
   ]
  },
  {
   "cell_type": "code",
   "execution_count": 10,
   "id": "1fbfd0d8",
   "metadata": {},
   "outputs": [],
   "source": [
    "train_datagen=ImageDataGenerator(\n",
    "    zoom_range=0.2, #the amount of zooming u need\n",
    "    horizontal_flip=True, # Make a horizontal copy of image\n",
    "    rescale=1/255, # Normalize the new images\n",
    "    width_shift_range=0.10, # The percentage of Width shifitning\n",
    "    height_shift_range=0.10, # The percentage of height shifitning\n",
    "    shear_range=0.1, #Shear angle in counter-clockwise direction in degrees\n",
    "    fill_mode='nearest',\n",
    "    rotation_range=20, \n",
    ")\n",
    "train_generator=train_datagen.flow(\n",
    "    x_train ,train_label ,batch_size=64\n",
    ")\n",
    "\n",
    "test_datagen=ImageDataGenerator(rescale=1/255)\n",
    "test_generator=test_datagen.flow(\n",
    "    x_test ,test_label ,batch_size=64\n",
    " \n",
    ")"
   ]
  },
  {
   "cell_type": "code",
   "execution_count": 11,
   "id": "58399325",
   "metadata": {},
   "outputs": [],
   "source": [
    "earlystop=EarlyStopping(patience=6)\n",
    "learning_rate_reduction=ReduceLROnPlateau(\n",
    "    monitor='val_acc',\n",
    "    patience= 3,\n",
    "    verbose=1,\n",
    ")\n",
    "callbacks = [earlystop, learning_rate_reduction]"
   ]
  },
  {
   "cell_type": "code",
   "execution_count": 22,
   "id": "1ac69c7e",
   "metadata": {},
   "outputs": [],
   "source": [
    "newImage=cv2.imread(\"alef.jpeg\")\n",
    "gray = cv2.cvtColor(newImage,cv2.COLOR_BGR2GRAY)\n",
    "blur = cv.GaussianBlur(gray,(5,5),0)\n",
    "blur = cv.medianBlur(blur,7)\n",
    "thesh =cv.adaptiveThreshold(blur, 255, cv.ADAPTIVE_THRESH_GAUSSIAN_C, cv.THRESH_BINARY, 11, 3)\n",
    "kernel = np.ones((1,1),np.uint8)\n",
    "dil = cv2.dilate(thesh,kernel,iterations=6)\n",
    "kernel = np.ones((4,4),np.uint8)\n",
    "erod = cv2.erode(dil,kernel,iterations=6)\n",
    "morph =cv2.morphologyEx(erod,cv2.MORPH_CLOSE, kernel)\n",
    "bitwisess=cv2.bitwise_not(morph)\n",
    "roto = cv2.rotate(bitwisess, cv2.ROTATE_90_CLOCKWISE)"
   ]
  },
  {
   "cell_type": "code",
   "execution_count": 23,
   "id": "e94c2d2b",
   "metadata": {},
   "outputs": [
    {
     "data": {
      "image/png": "[encoded data removed]",
      "text/plain": [
       "<Figure size 432x288 with 1 Axes>"
      ]
     },
     "metadata": {
      "needs_background": "light"
     },
     "output_type": "display_data"
    }
   ],
   "source": [
    "plt.imshow(roto)\n",
    "plt.show()"
   ]
  },
  {
   "cell_type": "code",
   "execution_count": 24,
   "id": "5ba8acb9",
   "metadata": {},
   "outputs": [],
   "source": [
    "newImage1 =cv2.resize(roto,(32,32))"
   ]
  },
  {
   "cell_type": "code",
   "execution_count": 25,
   "id": "282bbf59",
   "metadata": {},
   "outputs": [
    {
     "data": {
      "image/png": "[encoded data removed]",
      "text/plain": [
       "<Figure size 432x288 with 1 Axes>"
      ]
     },
     "metadata": {
      "needs_background": "light"
     },
     "output_type": "display_data"
    }
   ],
   "source": [
    "plt.imshow(newImage1)\n",
    "plt.show()"
   ]
  },
  {
   "cell_type": "code",
   "execution_count": 26,
   "id": "ff0f23a9",
   "metadata": {},
   "outputs": [
    {
     "data": {
      "text/plain": [
       "(1, 32, 32, 1)"
      ]
     },
     "execution_count": 26,
     "metadata": {},
     "output_type": "execute_result"
    }
   ],
   "source": [
    "conv=newImage1.astype(np.float)\n",
    "tt=conv/255\n",
    "x=tt.reshape(-1,32,32,1)\n",
    "x.shape"
   ]
  },
  {
   "cell_type": "code",
   "execution_count": 27,
   "id": "a8a5eb1d",
   "metadata": {},
   "outputs": [],
   "source": [
    "predict1=Stark.predict(x)"
   ]
  },
  {
   "cell_type": "code",
   "execution_count": 28,
   "id": "ae16201d",
   "metadata": {},
   "outputs": [
    {
     "name": "stdout",
     "output_type": "stream",
     "text": [
      "0\n"
     ]
    }
   ],
   "source": [
    "print(np.argmax(predict1))"
   ]
  },
  {
   "cell_type": "code",
   "execution_count": 29,
   "id": "3575ae74",
   "metadata": {},
   "outputs": [
    {
     "data": {
      "text/plain": [
       "array([[9.8202091e-01, 4.1292148e-07, 1.5909572e-16, 5.5684329e-11,\n",
       "        1.2890341e-07, 9.1856592e-08, 3.1826639e-04, 2.1160183e-12,\n",
       "        6.6549068e-09, 5.6611906e-09, 8.6423970e-06, 1.9360291e-11,\n",
       "        4.8213456e-12, 1.5480934e-13, 1.7520071e-12, 2.5411387e-06,\n",
       "        3.4693343e-04, 5.7010567e-03, 1.1599699e-02, 3.9190341e-14,\n",
       "        8.6177610e-12, 2.5575980e-10, 7.9571414e-08, 7.6714412e-07,\n",
       "        6.4123663e-12, 3.1564681e-12, 1.1647011e-10, 5.0833631e-07]],\n",
       "      dtype=float32)"
      ]
     },
     "execution_count": 29,
     "metadata": {},
     "output_type": "execute_result"
    }
   ],
   "source": [
    "predict1"
   ]
  },
  {
   "cell_type": "code",
   "execution_count": 30,
   "id": "fa59469d",
   "metadata": {},
   "outputs": [
    {
     "data": {
      "text/plain": [
       "(1, 28)"
      ]
     },
     "execution_count": 30,
     "metadata": {},
     "output_type": "execute_result"
    }
   ],
   "source": [
    "predict1.shape"
   ]
  },
  {
   "cell_type": "code",
   "execution_count": 31,
   "id": "8af0bd35",
   "metadata": {},
   "outputs": [
    {
     "name": "stdout",
     "output_type": "stream",
     "text": [
      "ا\n"
     ]
    }
   ],
   "source": [
    "print(characters[np.argmax(predict1)])"
   ]
  },
  {
   "cell_type": "code",
   "execution_count": null,
   "id": "7053a4bf",
   "metadata": {},
   "outputs": [],
   "source": [
    "# Import the required module for text\n",
    "# to speech conversion\n",
    "from gtts import gTTS\n",
    "\n",
    "# This module is imported so that we can\n",
    "# play the converted audio\n",
    "import os\n",
    "\n",
    "# The text that you want to convert to audio\n",
    "mytext = characters[np.argmax(predict1)]\n",
    "\n",
    "# Language in which you want to convert\n",
    "language = 'ar'\n",
    "\n",
    "# Passing the text and language to the engine,\n",
    "# here we have marked slow=False. Which tells\n",
    "# the module that the converted audio should\n",
    "# have a high speed\n",
    "myobj = gTTS(text=mytext, lang=language, slow=False)\n",
    "\n",
    "# Saving the converted audio in a mp3 file named\n",
    "# welcome\n",
    "myobj.save(\"welcome.mp3\")\n",
    "\n",
    "# Playing the converted file\n",
    "os.system(\"start welcome.mp3\")\n",
    "\n",
    "\n",
    "\n",
    "# -*- coding: utf-8 -*-\n",
    "from gtts.tokenizer import pre_processors, Tokenizer, tokenizer_cases\n",
    "from gtts.utils import _minimize, _len, _clean_tokens, _translate_url\n",
    "from gtts.lang import tts_langs, _fallback_deprecated_lang\n",
    "\n",
    "from six.moves import urllib\n",
    "\n",
    "try:\n",
    "    from urllib.parse import quote\n",
    "    import urllib3\n",
    "except ImportError:\n",
    "    from urllib import quote\n",
    "    import urllib2\n",
    "import requests\n",
    "import logging\n",
    "import json\n",
    "import re\n",
    "import base64\n",
    "\n",
    "__all__ = [\"gTTS\", \"gTTSError\"]\n",
    "\n",
    "# Logger\n",
    "log = logging.getLogger(__name__)\n",
    "log.addHandler(logging.NullHandler())\n",
    "\n",
    "\n",
    "class Speed:\n",
    "    \"\"\"Read Speed\n",
    "\n",
    "    The Google TTS Translate API supports two speeds:\n",
    "        Slow: True\n",
    "        Normal: None\n",
    "    \"\"\"\n",
    "\n",
    "    SLOW = True\n",
    "    NORMAL = None\n",
    "\n",
    "\n",
    "class gTTS:\n",
    "    \"\"\"gTTS -- Google Text-to-Speech.\n",
    "\n",
    "    An interface to Google Translate's Text-to-Speech API.\n",
    "\n",
    "    Args:\n",
    "        text (string): The text to be read.\n",
    "        tld (string): Top-level domain for the Google Translate host,\n",
    "            i.e `https://translate.google.<tld>`. Different Google domains\n",
    "            can produce different localized 'accents' for a given\n",
    "            language. This is also useful when ``google.com`` might be blocked\n",
    "            within a network but a local or different Google host\n",
    "            (e.g. ``google.cn``) is not. Default is ``com``.\n",
    "        lang (string, optional): The language (IETF language tag) to\n",
    "            read the text in. Default is ``en``.\n",
    "        slow (bool, optional): Reads text more slowly. Defaults to ``False``.\n",
    "        lang_check (bool, optional): Strictly enforce an existing ``lang``,\n",
    "            to catch a language error early. If set to ``True``,\n",
    "            a ``ValueError`` is raised if ``lang`` doesn't exist.\n",
    "            Setting ``lang_check`` to ``False`` skips Web requests\n",
    "            (to validate language) and therefore speeds up instanciation.\n",
    "            Default is ``True``.\n",
    "        pre_processor_funcs (list): A list of zero or more functions that are\n",
    "            called to transform (pre-process) text before tokenizing. Those\n",
    "            functions must take a string and return a string. Defaults to::\n",
    "\n",
    "                [\n",
    "                    pre_processors.tone_marks,\n",
    "                    pre_processors.end_of_line,\n",
    "                    pre_processors.abbreviations,\n",
    "                    pre_processors.word_sub\n",
    "                ]\n",
    "\n",
    "        tokenizer_func (callable): A function that takes in a string and\n",
    "            returns a list of string (tokens). Defaults to::\n",
    "\n",
    "                Tokenizer([\n",
    "                    tokenizer_cases.tone_marks,\n",
    "                    tokenizer_cases.period_comma,\n",
    "                    tokenizer_cases.colon,\n",
    "                    tokenizer_cases.other_punctuation\n",
    "                ]).run\n",
    "\n",
    "    See Also:\n",
    "        :doc:`Pre-processing and tokenizing <tokenizer>`\n",
    "\n",
    "    Raises:\n",
    "        AssertionError: When ``text`` is ``None`` or empty; when there's nothing\n",
    "            left to speak after pre-precessing, tokenizing and cleaning.\n",
    "        ValueError: When ``lang_check`` is ``True`` and ``lang`` is not supported.\n",
    "        RuntimeError: When ``lang_check`` is ``True`` but there's an error loading\n",
    "            the languages dictionary.\n",
    "\n",
    "    \"\"\"\n",
    "\n",
    "    GOOGLE_TTS_MAX_CHARS = 100  # Max characters the Google TTS API takes at a time\n",
    "    GOOGLE_TTS_HEADERS = {\n",
    "        \"Referer\": \"http://translate.google.com/\",\n",
    "        \"User-Agent\": \"Mozilla/5.0 (Windows NT 10.0; WOW64) \"\n",
    "        \"AppleWebKit/537.36 (KHTML, like Gecko) \"\n",
    "        \"Chrome/47.0.2526.106 Safari/537.36\",\n",
    "        \"Content-Type\": \"application/x-www-form-urlencoded;charset=utf-8\",\n",
    "    }\n",
    "    GOOGLE_TTS_RPC = \"jQ1olc\"\n",
    "\n",
    "    def __init__(\n",
    "        self,\n",
    "        text,\n",
    "        tld=\"com\",\n",
    "        lang=\"en\",\n",
    "        slow=False,\n",
    "        lang_check=True,\n",
    "        pre_processor_funcs=[\n",
    "            pre_processors.tone_marks,\n",
    "            pre_processors.end_of_line,\n",
    "            pre_processors.abbreviations,\n",
    "            pre_processors.word_sub,\n",
    "        ],\n",
    "        tokenizer_func=Tokenizer(\n",
    "            [\n",
    "                tokenizer_cases.tone_marks,\n",
    "                tokenizer_cases.period_comma,\n",
    "                tokenizer_cases.colon,\n",
    "                tokenizer_cases.other_punctuation,\n",
    "            ]\n",
    "        ).run,\n",
    "    ):\n",
    "\n",
    "        # Debug\n",
    "        for k, v in dict(locals()).items():\n",
    "            if k == \"self\":\n",
    "                continue\n",
    "            log.debug(\"%s: %s\", k, v)\n",
    "\n",
    "        # Text\n",
    "        assert text, \"No text to speak\"\n",
    "        self.text = text\n",
    "\n",
    "        # Translate URL top-level domain\n",
    "        self.tld = tld\n",
    "\n",
    "        # Language\n",
    "        self.lang_check = lang_check\n",
    "        self.lang = lang\n",
    "\n",
    "        if self.lang_check:\n",
    "            # Fallback lang in case it is deprecated\n",
    "            self.lang = _fallback_deprecated_lang(lang)\n",
    "\n",
    "            try:\n",
    "                langs = tts_langs()\n",
    "                if self.lang not in langs:\n",
    "                    raise ValueError(\"Language not supported: %s\" % lang)\n",
    "            except RuntimeError as e:\n",
    "                log.debug(str(e), exc_info=True)\n",
    "                log.warning(str(e))\n",
    "\n",
    "        # Read speed\n",
    "        if slow:\n",
    "            self.speed = Speed.SLOW\n",
    "        else:\n",
    "            self.speed = Speed.NORMAL\n",
    "\n",
    "        # Pre-processors and tokenizer\n",
    "        self.pre_processor_funcs = pre_processor_funcs\n",
    "        self.tokenizer_func = tokenizer_func\n",
    "\n",
    "    def _tokenize(self, text):\n",
    "        # Pre-clean\n",
    "        text = text.strip()\n",
    "\n",
    "        # Apply pre-processors\n",
    "        for pp in self.pre_processor_funcs:\n",
    "            log.debug(\"pre-processing: %s\", pp)\n",
    "            text = pp(text)\n",
    "\n",
    "        if _len(text) <= self.GOOGLE_TTS_MAX_CHARS:\n",
    "            return _clean_tokens([text])\n",
    "\n",
    "        # Tokenize\n",
    "        log.debug(\"tokenizing: %s\", self.tokenizer_func)\n",
    "        tokens = self.tokenizer_func(text)\n",
    "\n",
    "        # Clean\n",
    "        tokens = _clean_tokens(tokens)\n",
    "\n",
    "        # Minimize\n",
    "        min_tokens = []\n",
    "        for t in tokens:\n",
    "            min_tokens += _minimize(t, \" \", self.GOOGLE_TTS_MAX_CHARS)\n",
    "\n",
    "        # Filter empty tokens, post-minimize\n",
    "        tokens = [t for t in min_tokens if t]\n",
    "\n",
    "        return min_tokens\n",
    "\n",
    "    def _prepare_requests(self):\n",
    "        \"\"\"Created the TTS API the request(s) without sending them.\n",
    "\n",
    "        Returns:\n",
    "            list: ``requests.PreparedRequests_``. <https://2.python-requests.org/en/master/api/#requests.PreparedRequest>`_``.\n",
    "        \"\"\"\n",
    "        # TTS API URL\n",
    "        translate_url = _translate_url(\n",
    "            tld=self.tld, path=\"_/TranslateWebserverUi/data/batchexecute\"\n",
    "        )\n",
    "\n",
    "        text_parts = self._tokenize(self.text)\n",
    "        log.debug(\"text_parts: %s\", str(text_parts))\n",
    "        log.debug(\"text_parts: %i\", len(text_parts))\n",
    "        assert text_parts, \"No text to send to TTS API\"\n",
    "\n",
    "        prepared_requests = []\n",
    "        for idx, part in enumerate(text_parts):\n",
    "            data = self._package_rpc(part)\n",
    "\n",
    "            log.debug(\"data-%i: %s\", idx, data)\n",
    "\n",
    "            # Request\n",
    "            r = requests.Request(\n",
    "                method=\"POST\",\n",
    "                url=translate_url,\n",
    "                data=data,\n",
    "                headers=self.GOOGLE_TTS_HEADERS,\n",
    "            )\n",
    "\n",
    "            # Prepare request\n",
    "            prepared_requests.append(r.prepare())\n",
    "\n",
    "        return prepared_requests\n",
    "\n",
    "    def _package_rpc(self, text):\n",
    "        parameter = [text, self.lang, self.speed, \"null\"]\n",
    "        escaped_parameter = json.dumps(parameter, separators=(\",\", \":\"))\n",
    "\n",
    "        rpc = [[[self.GOOGLE_TTS_RPC, escaped_parameter, None, \"generic\"]]]\n",
    "        espaced_rpc = json.dumps(rpc, separators=(\",\", \":\"))\n",
    "        return \"f.req={}&\".format(quote(espaced_rpc))\n",
    "\n",
    "    def get_bodies(self):\n",
    "        \"\"\"Get TTS API request bodies(s) that would be sent to the TTS API.\n",
    "\n",
    "        Returns:\n",
    "            list: A list of TTS API request bodiess to make.\n",
    "        \"\"\"\n",
    "        return [pr.body for pr in self._prepare_requests()]\n",
    "\n",
    "    def stream(self):\n",
    "        \"\"\"Do the TTS API request(s) and stream bytes\n",
    "\n",
    "        Raises:\n",
    "            :class:`gTTSError`: When there's an error with the API request.\n",
    "\n",
    "        \"\"\"\n",
    "        # When disabling ssl verify in requests (for proxies and firewalls),\n",
    "        # urllib3 prints an insecure warning on stdout. We disable that.\n",
    "        try:\n",
    "            urllib3.disable_warnings(urllib3.exceptions.InsecureRequestWarning)\n",
    "        except:\n",
    "            pass\n",
    "\n",
    "        prepared_requests = self._prepare_requests()\n",
    "        for idx, pr in enumerate(prepared_requests):\n",
    "            try:\n",
    "                with requests.Session() as s:\n",
    "                    # Send request\n",
    "                    r = s.send(\n",
    "                        request=pr, proxies=urllib.request.getproxies(), verify=False\n",
    "                    )\n",
    "\n",
    "                log.debug(\"headers-%i: %s\", idx, r.request.headers)\n",
    "                log.debug(\"url-%i: %s\", idx, r.request.url)\n",
    "                log.debug(\"status-%i: %s\", idx, r.status_code)\n",
    "\n",
    "                r.raise_for_status()\n",
    "            except requests.exceptions.HTTPError as e:  # pragma: no cover\n",
    "                # Request successful, bad response\n",
    "                log.debug(str(e))\n",
    "                raise gTTSError(tts=self, response=r)\n",
    "            except requests.exceptions.RequestException as e:  # pragma: no cover\n",
    "                # Request failed\n",
    "                log.debug(str(e))\n",
    "                raise gTTSError(tts=self)\n",
    "\n",
    "            # Write\n",
    "            for line in r.iter_lines(chunk_size=1024):\n",
    "                decoded_line = line.decode(\"utf-8\")\n",
    "                if \"jQ1olc\" in decoded_line:\n",
    "                    audio_search = re.search(r'jQ1olc\",\"\\[\\\\\"(.*)\\\\\"]', decoded_line)\n",
    "                    if audio_search:\n",
    "                        as_bytes = audio_search.group(1).encode(\"ascii\")\n",
    "                        yield base64.b64decode(as_bytes)\n",
    "                    else:\n",
    "                        # Request successful, good response,\n",
    "                        # no audio stream in response\n",
    "                        raise gTTSError(tts=self, response=r)\n",
    "            log.debug(\"part-%i created\", idx)\n",
    "\n",
    "    def write_to_fp(self, fp):\n",
    "        \"\"\"Do the TTS API request(s) and write bytes to a file-like object.\n",
    "\n",
    "        Args:\n",
    "            fp (file object): Any file-like object to write the ``mp3`` to.\n",
    "\n",
    "        Raises:\n",
    "            :class:`gTTSError`: When there's an error with the API request.\n",
    "            TypeError: When ``fp`` is not a file-like object that takes bytes.\n",
    "\n",
    "        \"\"\"\n",
    "\n",
    "        try:\n",
    "            for idx, decoded in enumerate(self.stream()):\n",
    "                fp.write(decoded)\n",
    "                log.debug(\"part-%i written to %s\", idx, fp)\n",
    "        except (AttributeError, TypeError) as e:\n",
    "            raise TypeError(\n",
    "                \"'fp' is not a file-like object or it does not take bytes: %s\" % str(e)\n",
    "            )\n",
    "\n",
    "    def save(self, savefile):\n",
    "        \"\"\"Do the TTS API request and write result to file.\n",
    "\n",
    "        Args:\n",
    "            savefile (string): The path and file name to save the ``mp3`` to.\n",
    "\n",
    "        Raises:\n",
    "            :class:`gTTSError`: When there's an error with the API request.\n",
    "\n",
    "        \"\"\"\n",
    "        with open(str(savefile), \"wb\") as f:\n",
    "            self.write_to_fp(f)\n",
    "            log.debug(\"Saved to %s\", savefile)\n",
    "\n",
    "\n",
    "class gTTSError(Exception):\n",
    "    \"\"\"Exception that uses context to present a meaningful error message\"\"\"\n",
    "\n",
    "    def __init__(self, msg=None, **kwargs):\n",
    "        self.tts = kwargs.pop(\"tts\", None)\n",
    "        self.rsp = kwargs.pop(\"response\", None)\n",
    "        if msg:\n",
    "            self.msg = msg\n",
    "        elif self.tts is not None:\n",
    "            self.msg = self.infer_msg(self.tts, self.rsp)\n",
    "        else:\n",
    "            self.msg = None\n",
    "        super(gTTSError, self).__init__(self.msg)\n",
    "\n",
    "    def infer_msg(self, tts, rsp=None):\n",
    "        \"\"\"Attempt to guess what went wrong by using known\n",
    "        information (e.g. http response) and observed behaviour\n",
    "\n",
    "        \"\"\"\n",
    "        cause = \"Unknown\"\n",
    "\n",
    "        if rsp is None:\n",
    "            premise = \"Failed to connect\"\n",
    "\n",
    "            if tts.tld != \"com\":\n",
    "                host = _translate_url(tld=tts.tld)\n",
    "                cause = \"Host '{}' is not reachable\".format(host)\n",
    "\n",
    "        else:\n",
    "            # rsp should be <requests.Response>\n",
    "            # http://docs.python-requests.org/en/master/api/\n",
    "            status = rsp.status_code\n",
    "            reason = rsp.reason\n",
    "\n",
    "            premise = \"{:d} ({}) from TTS API\".format(status, reason)\n",
    "\n",
    "            if status == 403:\n",
    "                cause = \"Bad token or upstream API changes\"\n",
    "            elif status == 200 and not tts.lang_check:\n",
    "                cause = (\n",
    "                    \"No audio stream in response. Unsupported language '%s'\"\n",
    "                    % self.tts.lang\n",
    "                )\n",
    "            elif status >= 500:\n",
    "                cause = \"Uptream API error. Try again later.\"\n",
    "        return \"{}. Probable cause: {}\".format(premise, cause)\n"
   ]
  }
 ],
 "metadata": {
  "kernelspec": {
   "display_name": "Python 3",
   "language": "python",
   "name": "python3"
  },
  "language_info": {
   "codemirror_mode": {
    "name": "ipython",
    "version": 3
   },
   "file_extension": ".py",
   "mimetype": "text/x-python",
   "name": "python",
   "nbconvert_exporter": "python",
   "pygments_lexer": "ipython3",
   "version": "3.8.8"
  }
 },
 "nbformat": 4,
 "nbformat_minor": 5
}
